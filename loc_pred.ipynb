{
 "cells": [
  {
   "cell_type": "markdown",
   "id": "39927617-ef10-4951-b9a9-4708105a037d",
   "metadata": {},
   "source": [
    "## Marine Data Analysis"
   ]
  },
  {
   "cell_type": "markdown",
   "id": "85d8c273-2b87-440a-af0e-642a16156edf",
   "metadata": {},
   "source": [
    "### Import Required Libraries"
   ]
  },
  {
   "cell_type": "code",
   "execution_count": 1,
   "id": "e07a0e96-47aa-4745-b91b-6caadb1a5e5f",
   "metadata": {},
   "outputs": [],
   "source": [
    "import pandas as pd\n",
    "from oceans.datasets import get_depth\n",
    "import netCDF4 as nc\n",
    "import matplotlib.pyplot as plt\n",
    "import numpy as np\n",
    "import requests\n",
    "from haversine import haversine"
   ]
  },
  {
   "cell_type": "markdown",
   "id": "1e8c1a23",
   "metadata": {},
   "source": [
    "### Define function for getting distance from beach"
   ]
  },
  {
   "cell_type": "code",
   "execution_count": 2,
   "id": "0686f16f",
   "metadata": {},
   "outputs": [],
   "source": [
    "def get_dist(sea_point):\n",
    "    url = 'https://nominatim.openstreetmap.org/reverse'\n",
    "    params = {\n",
    "        'format': 'jsonv2',\n",
    "        'lat': sea_point[0],\n",
    "        'lon': sea_point[1]\n",
    "    }\n",
    "\n",
    "    response = requests.get(url, params=params).json()\n",
    "\n",
    "    shore_point = (float(response['lat']), float(response['lon']))\n",
    "\n",
    "    distance = haversine(sea_point, shore_point)\n",
    "    return distance"
   ]
  },
  {
   "cell_type": "markdown",
   "id": "065d5558-6674-45ee-bc0f-2b6bb0ca90bb",
   "metadata": {},
   "source": [
    "### Reading and processing marine plants Data from the Europe data folder"
   ]
  },
  {
   "cell_type": "code",
   "execution_count": 3,
   "id": "97be03bc-60a7-4051-a96d-c152ddb3606d",
   "metadata": {},
   "outputs": [],
   "source": [
    "path = 'Data/Europe data/results'"
   ]
  },
  {
   "cell_type": "code",
   "execution_count": 4,
   "id": "bace283f-1f88-42bf-8524-18990d9e364b",
   "metadata": {},
   "outputs": [],
   "source": [
    "eu_data = []"
   ]
  },
  {
   "cell_type": "code",
   "execution_count": 5,
   "id": "68d660fa-7caf-4193-b4db-339d3d3d5938",
   "metadata": {},
   "outputs": [],
   "source": [
    "for i in range(96):\n",
    "    filename = path + f\" ({i}).csv\"\n",
    "    val_dict = {}\n",
    "\n",
    "    with open(filename) as file:\n",
    "        lines = file.readlines()\n",
    "        val_dict['type'] = lines[0]\n",
    "\n",
    "        for line in lines[1:]:\n",
    "            line = line.strip()\n",
    "            key_vals = line.replace('\"', '').split('\\t')\n",
    "            if key_vals == ['']:\n",
    "                break\n",
    "            if \"Latitude\" in key_vals[0]:\n",
    "                key_vals[0] = \"Latitude\"\n",
    "            if \"Longitude\" in key_vals[0]:\n",
    "                key_vals[0] = \"Longitude\"\n",
    "            val_dict[key_vals[0]] = key_vals[1]\n",
    "\n",
    "    eu_data.append(val_dict)"
   ]
  },
  {
   "cell_type": "code",
   "execution_count": 6,
   "id": "52dab1de-5cc6-4d6e-a07c-120548bd99d0",
   "metadata": {},
   "outputs": [
    {
     "data": {
      "text/plain": [
       "dict_keys(['type', 'Status', 'Name', 'Commercial Readiness', 'Phase', 'Country', 'Sea', 'Region', 'Latitude', 'Longitude', 'Capacity [MW]', 'Energy source', 'Number of converters', '(Estimated) begin of construction', '(Estimated) commissioning', '(Estimated) decommissioning', 'Owner', 'Project developer', 'Operator', 'Converter manufacturer', 'Converter type', 'Converter working principle', 'Converter capacity [MW]', 'Website', 'geometry'])"
      ]
     },
     "execution_count": 6,
     "metadata": {},
     "output_type": "execute_result"
    }
   ],
   "source": [
    "eu_data[37].keys()"
   ]
  },
  {
   "cell_type": "code",
   "execution_count": 7,
   "id": "87fb7ecc-af22-48cc-865a-0c0f7d5d3555",
   "metadata": {},
   "outputs": [
    {
     "data": {
      "text/plain": [
       "{'type': 'Wave\\n',\n",
       " 'Status': 'under construction',\n",
       " 'Name': 'mWave Demonstrator',\n",
       " 'Commercial Readiness': 'pre-commercial project',\n",
       " 'Phase': '1',\n",
       " 'Country': 'United Kingdom',\n",
       " 'Sea': 'Bristol Channel',\n",
       " 'Region': 'META, East Pickard Bay, approx. 1 km from Freshwater West beach',\n",
       " 'Latitude': '51.666',\n",
       " 'Longitude': '-5.09',\n",
       " 'Capacity [MW]': '1.5',\n",
       " 'Energy source': 'marine energy (wave)',\n",
       " 'Number of converters': '1',\n",
       " '(Estimated) begin of construction': '',\n",
       " '(Estimated) commissioning': '31.12.2021',\n",
       " '(Estimated) decommissioning': '31.12.2022',\n",
       " 'Owner': 'Bombora Wave Power',\n",
       " 'Project developer': 'Bombora Wave Power',\n",
       " 'Operator': 'Bombora Wave Power',\n",
       " 'Converter manufacturer': 'Bombora Wave Power',\n",
       " 'Converter type': 'mWave',\n",
       " 'Converter working principle': 'Submerged Pressure Differential',\n",
       " 'Converter capacity [MW]': '1.5',\n",
       " 'Website': 'https://bomborawave.com/latest-news/project/1-5mw-pembrokeshire-project/',\n",
       " 'geometry': 'POINT (-566616.20813776 6739957.81664534)'}"
      ]
     },
     "execution_count": 7,
     "metadata": {},
     "output_type": "execute_result"
    }
   ],
   "source": [
    "eu_data[37]"
   ]
  },
  {
   "cell_type": "markdown",
   "id": "cbc2b7cf-77dd-4d94-89ef-174db7d5f1a9",
   "metadata": {},
   "source": [
    "### Reading and processing marine plants Data from the Europe data folder"
   ]
  },
  {
   "cell_type": "code",
   "execution_count": 8,
   "id": "acc282d0-ae99-4fef-bc79-95e1084059d6",
   "metadata": {},
   "outputs": [],
   "source": [
    "path = 'Data/rest_data/results'"
   ]
  },
  {
   "cell_type": "code",
   "execution_count": 9,
   "id": "dceb5a38-e043-448c-b28d-d266d70448df",
   "metadata": {},
   "outputs": [],
   "source": [
    "non_eu_data = []"
   ]
  },
  {
   "cell_type": "code",
   "execution_count": 10,
   "id": "8b9cbff1-faa5-4489-ac21-622e2ce25829",
   "metadata": {},
   "outputs": [],
   "source": [
    "for i in range(79):\n",
    "    filename = path + f\" ({i}).csv\"\n",
    "    val_dict = {}\n",
    "\n",
    "    with open(filename) as file:\n",
    "        lines = file.readlines()\n",
    "        val_dict['type'] = lines[0]\n",
    "\n",
    "        for line in lines[1:]:\n",
    "            line = line.strip()\n",
    "            key_vals = line.replace('\"', '').split('\\t')\n",
    "            if key_vals == ['']:\n",
    "                break\n",
    "            if \"Latitude\" in key_vals[0]:\n",
    "                key_vals[0] = \"Latitude\"\n",
    "            if \"Longitude\" in key_vals[0]:\n",
    "                key_vals[0] = \"Longitude\"\n",
    "            val_dict[key_vals[0]] = key_vals[1]\n",
    "\n",
    "    non_eu_data.append(val_dict)"
   ]
  },
  {
   "cell_type": "code",
   "execution_count": 11,
   "id": "a89d2726-c7b5-4d66-b943-0a2f7aa1d85a",
   "metadata": {},
   "outputs": [
    {
     "data": {
      "text/plain": [
       "{'type': 'OTEC\\n',\n",
       " 'Status': 'early planning',\n",
       " 'Name': 'Virgin Islands - St. Croix',\n",
       " 'Commercial Readiness': 'commercial project',\n",
       " 'Phase': '',\n",
       " 'Country': 'USA',\n",
       " 'Sea': 'Carribean Sea',\n",
       " 'Region': 'St. Croix',\n",
       " 'Latitude': '17.735',\n",
       " 'Longitude': '-64.783',\n",
       " 'Capacity [MW]': '15',\n",
       " 'Energy source': 'marine energy (OTEC)',\n",
       " 'Number of converters': '',\n",
       " '(Estimated) begin of construction': '',\n",
       " '(Estimated) commissioning': '',\n",
       " '(Estimated) decommissioning': '',\n",
       " 'Owner': 'Ocean Thermal Energy Corporation (OTE)',\n",
       " 'Project developer': 'Ocean Thermal Energy Corporation (OTE)',\n",
       " 'Operator': 'Ocean Thermal Energy Corporation (OTE)',\n",
       " 'Converter manufacturer': '',\n",
       " 'Converter type': '',\n",
       " 'Converter working principle': '',\n",
       " 'Converter capacity [MW]': '',\n",
       " 'Website': 'http://otecorporation.com/projects/',\n",
       " 'geometry': 'POINT (-7211610.57206064 2006553.93426781)'}"
      ]
     },
     "execution_count": 11,
     "metadata": {},
     "output_type": "execute_result"
    }
   ],
   "source": [
    "non_eu_data[10]"
   ]
  },
  {
   "cell_type": "code",
   "execution_count": null,
   "id": "70504fe9-4b68-42b0-a8d6-ea08d5979371",
   "metadata": {},
   "outputs": [],
   "source": []
  },
  {
   "cell_type": "markdown",
   "id": "36b4c14c-f864-4a65-8a24-d100e986ac8a",
   "metadata": {},
   "source": [
    "### Reading the excel file containing all the collected data"
   ]
  },
  {
   "cell_type": "code",
   "execution_count": 12,
   "id": "593aecfc-b105-4c7c-9bc9-282eba3a0283",
   "metadata": {},
   "outputs": [],
   "source": [
    "df = pd.read_excel(\"Data/ml_data.xlsx\", sheet_name=None)"
   ]
  },
  {
   "cell_type": "code",
   "execution_count": 13,
   "id": "fe6a44a7-2667-4f47-9530-ec3576efc526",
   "metadata": {},
   "outputs": [
    {
     "data": {
      "text/plain": [
       "['coastline',\n",
       " 'beaches',\n",
       " 'marine_energy_capacity_and_gene',\n",
       " 'electricity_power_consumption',\n",
       " 'GDP',\n",
       " 'population',\n",
       " 'renewable_energy_percentage',\n",
       " 'purchase_parity',\n",
       " 'electricity_cost',\n",
       " 'inflation',\n",
       " 'Series - Metadata',\n",
       " 'Data']"
      ]
     },
     "execution_count": 13,
     "metadata": {},
     "output_type": "execute_result"
    }
   ],
   "source": [
    "list(df.keys())"
   ]
  },
  {
   "cell_type": "code",
   "execution_count": 14,
   "id": "15f4670c-63ea-4031-bf0c-21955fc6898d",
   "metadata": {},
   "outputs": [
    {
     "data": {
      "text/html": [
       "<div>\n",
       "<style scoped>\n",
       "    .dataframe tbody tr th:only-of-type {\n",
       "        vertical-align: middle;\n",
       "    }\n",
       "\n",
       "    .dataframe tbody tr th {\n",
       "        vertical-align: top;\n",
       "    }\n",
       "\n",
       "    .dataframe thead th {\n",
       "        text-align: right;\n",
       "    }\n",
       "</style>\n",
       "<table border=\"1\" class=\"dataframe\">\n",
       "  <thead>\n",
       "    <tr style=\"text-align: right;\">\n",
       "      <th></th>\n",
       "      <th>Top beach coordinates</th>\n",
       "      <th>Latitude</th>\n",
       "      <th>Longitude</th>\n",
       "    </tr>\n",
       "  </thead>\n",
       "  <tbody>\n",
       "    <tr>\n",
       "      <th>0</th>\n",
       "      <td>Australia</td>\n",
       "      <td>-20.282677</td>\n",
       "      <td>149.034912</td>\n",
       "    </tr>\n",
       "    <tr>\n",
       "      <th>1</th>\n",
       "      <td>Australia</td>\n",
       "      <td>-20.278610</td>\n",
       "      <td>149.036392</td>\n",
       "    </tr>\n",
       "    <tr>\n",
       "      <th>2</th>\n",
       "      <td>Australia</td>\n",
       "      <td>-33.890842</td>\n",
       "      <td>151.274292</td>\n",
       "    </tr>\n",
       "    <tr>\n",
       "      <th>3</th>\n",
       "      <td>Brazil</td>\n",
       "      <td>-3.854703</td>\n",
       "      <td>-32.443741</td>\n",
       "    </tr>\n",
       "    <tr>\n",
       "      <th>4</th>\n",
       "      <td>France</td>\n",
       "      <td>44.589123</td>\n",
       "      <td>-1.223570</td>\n",
       "    </tr>\n",
       "    <tr>\n",
       "      <th>5</th>\n",
       "      <td>India</td>\n",
       "      <td>8.894748</td>\n",
       "      <td>76.553513</td>\n",
       "    </tr>\n",
       "    <tr>\n",
       "      <th>6</th>\n",
       "      <td>India</td>\n",
       "      <td>17.714294</td>\n",
       "      <td>83.323685</td>\n",
       "    </tr>\n",
       "    <tr>\n",
       "      <th>7</th>\n",
       "      <td>India</td>\n",
       "      <td>18.954269</td>\n",
       "      <td>72.811501</td>\n",
       "    </tr>\n",
       "    <tr>\n",
       "      <th>8</th>\n",
       "      <td>Indonesia</td>\n",
       "      <td>38.790527</td>\n",
       "      <td>-9.492289</td>\n",
       "    </tr>\n",
       "    <tr>\n",
       "      <th>9</th>\n",
       "      <td>Indonesia</td>\n",
       "      <td>-8.750644</td>\n",
       "      <td>115.474693</td>\n",
       "    </tr>\n",
       "    <tr>\n",
       "      <th>10</th>\n",
       "      <td>Indonesia</td>\n",
       "      <td>-8.146727</td>\n",
       "      <td>110.597214</td>\n",
       "    </tr>\n",
       "    <tr>\n",
       "      <th>11</th>\n",
       "      <td>Indonesia</td>\n",
       "      <td>-8.719266</td>\n",
       "      <td>115.168640</td>\n",
       "    </tr>\n",
       "    <tr>\n",
       "      <th>12</th>\n",
       "      <td>Indonesia</td>\n",
       "      <td>-8.485466</td>\n",
       "      <td>116.047302</td>\n",
       "    </tr>\n",
       "    <tr>\n",
       "      <th>13</th>\n",
       "      <td>Italy</td>\n",
       "      <td>40.633354</td>\n",
       "      <td>14.602745</td>\n",
       "    </tr>\n",
       "    <tr>\n",
       "      <th>14</th>\n",
       "      <td>Mexico</td>\n",
       "      <td>24.321733</td>\n",
       "      <td>-110.324203</td>\n",
       "    </tr>\n",
       "    <tr>\n",
       "      <th>15</th>\n",
       "      <td>Mexico</td>\n",
       "      <td>21.259657</td>\n",
       "      <td>-86.751434</td>\n",
       "    </tr>\n",
       "    <tr>\n",
       "      <th>16</th>\n",
       "      <td>Mexico</td>\n",
       "      <td>20.207481</td>\n",
       "      <td>-87.430496</td>\n",
       "    </tr>\n",
       "    <tr>\n",
       "      <th>17</th>\n",
       "      <td>Mexico</td>\n",
       "      <td>20.699806</td>\n",
       "      <td>-105.570259</td>\n",
       "    </tr>\n",
       "    <tr>\n",
       "      <th>18</th>\n",
       "      <td>Mexico</td>\n",
       "      <td>19.230021</td>\n",
       "      <td>-104.729042</td>\n",
       "    </tr>\n",
       "    <tr>\n",
       "      <th>19</th>\n",
       "      <td>South Africa</td>\n",
       "      <td>-34.197388</td>\n",
       "      <td>18.451151</td>\n",
       "    </tr>\n",
       "    <tr>\n",
       "      <th>20</th>\n",
       "      <td>South Africa</td>\n",
       "      <td>-31.986111</td>\n",
       "      <td>29.147223</td>\n",
       "    </tr>\n",
       "    <tr>\n",
       "      <th>21</th>\n",
       "      <td>South Africa</td>\n",
       "      <td>-34.079762</td>\n",
       "      <td>23.127628</td>\n",
       "    </tr>\n",
       "    <tr>\n",
       "      <th>22</th>\n",
       "      <td>Turkey</td>\n",
       "      <td>40.962856</td>\n",
       "      <td>29.061369</td>\n",
       "    </tr>\n",
       "    <tr>\n",
       "      <th>23</th>\n",
       "      <td>Turkey</td>\n",
       "      <td>36.802788</td>\n",
       "      <td>28.234247</td>\n",
       "    </tr>\n",
       "    <tr>\n",
       "      <th>24</th>\n",
       "      <td>Turkey</td>\n",
       "      <td>36.681393</td>\n",
       "      <td>27.557518</td>\n",
       "    </tr>\n",
       "    <tr>\n",
       "      <th>25</th>\n",
       "      <td>Turkey</td>\n",
       "      <td>36.861027</td>\n",
       "      <td>30.637844</td>\n",
       "    </tr>\n",
       "    <tr>\n",
       "      <th>26</th>\n",
       "      <td>Turkey</td>\n",
       "      <td>36.792221</td>\n",
       "      <td>28.620001</td>\n",
       "    </tr>\n",
       "    <tr>\n",
       "      <th>27</th>\n",
       "      <td>Turkey</td>\n",
       "      <td>36.266216</td>\n",
       "      <td>29.317223</td>\n",
       "    </tr>\n",
       "    <tr>\n",
       "      <th>28</th>\n",
       "      <td>Turkey</td>\n",
       "      <td>36.228767</td>\n",
       "      <td>29.449142</td>\n",
       "    </tr>\n",
       "    <tr>\n",
       "      <th>29</th>\n",
       "      <td>Turkey</td>\n",
       "      <td>36.461185</td>\n",
       "      <td>29.125172</td>\n",
       "    </tr>\n",
       "    <tr>\n",
       "      <th>30</th>\n",
       "      <td>Turkey</td>\n",
       "      <td>36.551041</td>\n",
       "      <td>31.976477</td>\n",
       "    </tr>\n",
       "    <tr>\n",
       "      <th>31</th>\n",
       "      <td>Turkey</td>\n",
       "      <td>36.396667</td>\n",
       "      <td>30.473057</td>\n",
       "    </tr>\n",
       "    <tr>\n",
       "      <th>32</th>\n",
       "      <td>Turkey</td>\n",
       "      <td>36.496799</td>\n",
       "      <td>29.127331</td>\n",
       "    </tr>\n",
       "    <tr>\n",
       "      <th>33</th>\n",
       "      <td>United States</td>\n",
       "      <td>19.356697</td>\n",
       "      <td>-154.968307</td>\n",
       "    </tr>\n",
       "    <tr>\n",
       "      <th>34</th>\n",
       "      <td>United States</td>\n",
       "      <td>39.452717</td>\n",
       "      <td>-123.813866</td>\n",
       "    </tr>\n",
       "    <tr>\n",
       "      <th>35</th>\n",
       "      <td>United States</td>\n",
       "      <td>27.265862</td>\n",
       "      <td>-82.552521</td>\n",
       "    </tr>\n",
       "    <tr>\n",
       "      <th>36</th>\n",
       "      <td>United States</td>\n",
       "      <td>37.801685</td>\n",
       "      <td>-122.479965</td>\n",
       "    </tr>\n",
       "    <tr>\n",
       "      <th>37</th>\n",
       "      <td>United States</td>\n",
       "      <td>20.787159</td>\n",
       "      <td>-156.002045</td>\n",
       "    </tr>\n",
       "    <tr>\n",
       "      <th>38</th>\n",
       "      <td>United States</td>\n",
       "      <td>20.005039</td>\n",
       "      <td>-155.824615</td>\n",
       "    </tr>\n",
       "    <tr>\n",
       "      <th>39</th>\n",
       "      <td>United States</td>\n",
       "      <td>33.850655</td>\n",
       "      <td>-78.654381</td>\n",
       "    </tr>\n",
       "    <tr>\n",
       "      <th>40</th>\n",
       "      <td>United States</td>\n",
       "      <td>32.477474</td>\n",
       "      <td>-80.335297</td>\n",
       "    </tr>\n",
       "    <tr>\n",
       "      <th>41</th>\n",
       "      <td>United States</td>\n",
       "      <td>40.630100</td>\n",
       "      <td>-73.340958</td>\n",
       "    </tr>\n",
       "    <tr>\n",
       "      <th>42</th>\n",
       "      <td>United States</td>\n",
       "      <td>27.935509</td>\n",
       "      <td>-80.490044</td>\n",
       "    </tr>\n",
       "    <tr>\n",
       "      <th>43</th>\n",
       "      <td>United States</td>\n",
       "      <td>38.949848</td>\n",
       "      <td>-77.127647</td>\n",
       "    </tr>\n",
       "    <tr>\n",
       "      <th>44</th>\n",
       "      <td>United States</td>\n",
       "      <td>39.955673</td>\n",
       "      <td>-74.074303</td>\n",
       "    </tr>\n",
       "    <tr>\n",
       "      <th>45</th>\n",
       "      <td>United States</td>\n",
       "      <td>25.942871</td>\n",
       "      <td>-80.123383</td>\n",
       "    </tr>\n",
       "    <tr>\n",
       "      <th>46</th>\n",
       "      <td>United States</td>\n",
       "      <td>27.745003</td>\n",
       "      <td>-82.759659</td>\n",
       "    </tr>\n",
       "    <tr>\n",
       "      <th>47</th>\n",
       "      <td>United States</td>\n",
       "      <td>45.908997</td>\n",
       "      <td>-123.968475</td>\n",
       "    </tr>\n",
       "    <tr>\n",
       "      <th>48</th>\n",
       "      <td>United States</td>\n",
       "      <td>25.912266</td>\n",
       "      <td>-80.121277</td>\n",
       "    </tr>\n",
       "    <tr>\n",
       "      <th>49</th>\n",
       "      <td>United States</td>\n",
       "      <td>39.926064</td>\n",
       "      <td>-74.073860</td>\n",
       "    </tr>\n",
       "    <tr>\n",
       "      <th>50</th>\n",
       "      <td>United States</td>\n",
       "      <td>33.905758</td>\n",
       "      <td>-78.391144</td>\n",
       "    </tr>\n",
       "    <tr>\n",
       "      <th>51</th>\n",
       "      <td>United States</td>\n",
       "      <td>47.993195</td>\n",
       "      <td>-122.561462</td>\n",
       "    </tr>\n",
       "  </tbody>\n",
       "</table>\n",
       "</div>"
      ],
      "text/plain": [
       "   Top beach coordinates   Latitude   Longitude\n",
       "0              Australia -20.282677  149.034912\n",
       "1              Australia -20.278610  149.036392\n",
       "2              Australia -33.890842  151.274292\n",
       "3                 Brazil  -3.854703  -32.443741\n",
       "4                 France  44.589123   -1.223570\n",
       "5                  India   8.894748   76.553513\n",
       "6                  India  17.714294   83.323685\n",
       "7                  India  18.954269   72.811501\n",
       "8              Indonesia  38.790527   -9.492289\n",
       "9              Indonesia  -8.750644  115.474693\n",
       "10             Indonesia  -8.146727  110.597214\n",
       "11             Indonesia  -8.719266  115.168640\n",
       "12             Indonesia  -8.485466  116.047302\n",
       "13                 Italy  40.633354   14.602745\n",
       "14                Mexico  24.321733 -110.324203\n",
       "15                Mexico  21.259657  -86.751434\n",
       "16                Mexico  20.207481  -87.430496\n",
       "17                Mexico  20.699806 -105.570259\n",
       "18                Mexico  19.230021 -104.729042\n",
       "19          South Africa -34.197388   18.451151\n",
       "20          South Africa -31.986111   29.147223\n",
       "21          South Africa -34.079762   23.127628\n",
       "22                Turkey  40.962856   29.061369\n",
       "23                Turkey  36.802788   28.234247\n",
       "24                Turkey  36.681393   27.557518\n",
       "25                Turkey  36.861027   30.637844\n",
       "26                Turkey  36.792221   28.620001\n",
       "27                Turkey  36.266216   29.317223\n",
       "28                Turkey  36.228767   29.449142\n",
       "29                Turkey  36.461185   29.125172\n",
       "30                Turkey  36.551041   31.976477\n",
       "31                Turkey  36.396667   30.473057\n",
       "32                Turkey  36.496799   29.127331\n",
       "33         United States  19.356697 -154.968307\n",
       "34         United States  39.452717 -123.813866\n",
       "35         United States  27.265862  -82.552521\n",
       "36         United States  37.801685 -122.479965\n",
       "37         United States  20.787159 -156.002045\n",
       "38         United States  20.005039 -155.824615\n",
       "39         United States  33.850655  -78.654381\n",
       "40         United States  32.477474  -80.335297\n",
       "41         United States  40.630100  -73.340958\n",
       "42         United States  27.935509  -80.490044\n",
       "43         United States  38.949848  -77.127647\n",
       "44         United States  39.955673  -74.074303\n",
       "45         United States  25.942871  -80.123383\n",
       "46         United States  27.745003  -82.759659\n",
       "47         United States  45.908997 -123.968475\n",
       "48         United States  25.912266  -80.121277\n",
       "49         United States  39.926064  -74.073860\n",
       "50         United States  33.905758  -78.391144\n",
       "51         United States  47.993195 -122.561462"
      ]
     },
     "execution_count": 14,
     "metadata": {},
     "output_type": "execute_result"
    }
   ],
   "source": [
    "df['beaches']"
   ]
  },
  {
   "cell_type": "code",
   "execution_count": null,
   "id": "b11d9f4d-624d-487b-aad3-3ecd22790aae",
   "metadata": {},
   "outputs": [],
   "source": []
  },
  {
   "cell_type": "markdown",
   "id": "d4edfbdd-aa1e-45dd-bab3-af584ec41606",
   "metadata": {},
   "source": [
    "### Getting the depth of the marine plants"
   ]
  },
  {
   "cell_type": "code",
   "execution_count": 15,
   "id": "2de7ed23-c266-4fd3-be8c-366d0c3962ee",
   "metadata": {},
   "outputs": [
    {
     "data": {
      "text/plain": [
       "array([-2638.16828962])"
      ]
     },
     "execution_count": 15,
     "metadata": {},
     "output_type": "execute_result"
    }
   ],
   "source": [
    "station_lon = [70]\n",
    "station_lat = [18]\n",
    "get_depth(station_lon, station_lat)"
   ]
  },
  {
   "cell_type": "code",
   "execution_count": 31,
   "id": "c58e8a5c-4c2a-49e7-81c5-19cbe45b724e",
   "metadata": {
    "scrolled": true
   },
   "outputs": [
    {
     "ename": "KeyError",
     "evalue": "'lat'",
     "output_type": "error",
     "traceback": [
      "\u001b[0;31m---------------------------------------------------------------------------\u001b[0m",
      "\u001b[0;31mKeyError\u001b[0m                                  Traceback (most recent call last)",
      "Cell \u001b[0;32mIn[31], line 3\u001b[0m\n\u001b[1;32m      1\u001b[0m \u001b[38;5;28;01mfor\u001b[39;00m point \u001b[38;5;129;01min\u001b[39;00m eu_data:\n\u001b[1;32m      2\u001b[0m     point[\u001b[38;5;124m'\u001b[39m\u001b[38;5;124mdepth\u001b[39m\u001b[38;5;124m'\u001b[39m] \u001b[38;5;241m=\u001b[39m get_depth(\u001b[38;5;28mfloat\u001b[39m(point[\u001b[38;5;124m\"\u001b[39m\u001b[38;5;124mLongitude\u001b[39m\u001b[38;5;124m\"\u001b[39m]), \u001b[38;5;28mfloat\u001b[39m(point[\u001b[38;5;124m\"\u001b[39m\u001b[38;5;124mLatitude\u001b[39m\u001b[38;5;124m\"\u001b[39m]))\n\u001b[0;32m----> 3\u001b[0m     point[\u001b[38;5;124m'\u001b[39m\u001b[38;5;124mdist\u001b[39m\u001b[38;5;124m'\u001b[39m] \u001b[38;5;241m=\u001b[39m \u001b[43mget_dist\u001b[49m\u001b[43m(\u001b[49m\u001b[43m(\u001b[49m\u001b[38;5;28;43mfloat\u001b[39;49m\u001b[43m(\u001b[49m\u001b[43mpoint\u001b[49m\u001b[43m[\u001b[49m\u001b[38;5;124;43m\"\u001b[39;49m\u001b[38;5;124;43mLatitude\u001b[39;49m\u001b[38;5;124;43m\"\u001b[39;49m\u001b[43m]\u001b[49m\u001b[43m)\u001b[49m\u001b[43m,\u001b[49m\u001b[43m \u001b[49m\u001b[38;5;28;43mfloat\u001b[39;49m\u001b[43m(\u001b[49m\u001b[43mpoint\u001b[49m\u001b[43m[\u001b[49m\u001b[38;5;124;43m\"\u001b[39;49m\u001b[38;5;124;43mLongitude\u001b[39;49m\u001b[38;5;124;43m\"\u001b[39;49m\u001b[43m]\u001b[49m\u001b[43m)\u001b[49m\u001b[43m)\u001b[49m\u001b[43m)\u001b[49m\n\u001b[1;32m      4\u001b[0m     point[\u001b[38;5;124m'\u001b[39m\u001b[38;5;124mround_lat\u001b[39m\u001b[38;5;124m'\u001b[39m] \u001b[38;5;241m=\u001b[39m \u001b[38;5;28mround\u001b[39m(\u001b[38;5;241m2\u001b[39m\u001b[38;5;241m*\u001b[39m\u001b[38;5;28mfloat\u001b[39m(point[\u001b[38;5;124m\"\u001b[39m\u001b[38;5;124mLatitude\u001b[39m\u001b[38;5;124m\"\u001b[39m]))\n\u001b[1;32m      5\u001b[0m     point[\u001b[38;5;124m'\u001b[39m\u001b[38;5;124mround_long\u001b[39m\u001b[38;5;124m'\u001b[39m] \u001b[38;5;241m=\u001b[39m \u001b[38;5;28mround\u001b[39m(\u001b[38;5;241m2\u001b[39m\u001b[38;5;241m*\u001b[39m\u001b[38;5;28mfloat\u001b[39m(point[\u001b[38;5;124m\"\u001b[39m\u001b[38;5;124mLongitude\u001b[39m\u001b[38;5;124m\"\u001b[39m]))\n",
      "Cell \u001b[0;32mIn[2], line 11\u001b[0m, in \u001b[0;36mget_dist\u001b[0;34m(sea_point)\u001b[0m\n\u001b[1;32m      3\u001b[0m params \u001b[38;5;241m=\u001b[39m {\n\u001b[1;32m      4\u001b[0m     \u001b[38;5;124m'\u001b[39m\u001b[38;5;124mformat\u001b[39m\u001b[38;5;124m'\u001b[39m: \u001b[38;5;124m'\u001b[39m\u001b[38;5;124mjsonv2\u001b[39m\u001b[38;5;124m'\u001b[39m,\n\u001b[1;32m      5\u001b[0m     \u001b[38;5;124m'\u001b[39m\u001b[38;5;124mlat\u001b[39m\u001b[38;5;124m'\u001b[39m: sea_point[\u001b[38;5;241m0\u001b[39m],\n\u001b[1;32m      6\u001b[0m     \u001b[38;5;124m'\u001b[39m\u001b[38;5;124mlon\u001b[39m\u001b[38;5;124m'\u001b[39m: sea_point[\u001b[38;5;241m1\u001b[39m]\n\u001b[1;32m      7\u001b[0m }\n\u001b[1;32m      9\u001b[0m response \u001b[38;5;241m=\u001b[39m requests\u001b[38;5;241m.\u001b[39mget(url, params\u001b[38;5;241m=\u001b[39mparams)\u001b[38;5;241m.\u001b[39mjson()\n\u001b[0;32m---> 11\u001b[0m shore_point \u001b[38;5;241m=\u001b[39m (\u001b[38;5;28mfloat\u001b[39m(\u001b[43mresponse\u001b[49m\u001b[43m[\u001b[49m\u001b[38;5;124;43m'\u001b[39;49m\u001b[38;5;124;43mlat\u001b[39;49m\u001b[38;5;124;43m'\u001b[39;49m\u001b[43m]\u001b[49m), \u001b[38;5;28mfloat\u001b[39m(response[\u001b[38;5;124m'\u001b[39m\u001b[38;5;124mlon\u001b[39m\u001b[38;5;124m'\u001b[39m]))\n\u001b[1;32m     13\u001b[0m distance \u001b[38;5;241m=\u001b[39m haversine(sea_point, shore_point)\n\u001b[1;32m     14\u001b[0m \u001b[38;5;28;01mreturn\u001b[39;00m distance\n",
      "\u001b[0;31mKeyError\u001b[0m: 'lat'"
     ]
    }
   ],
   "source": [
    "for point in eu_data:\n",
    "    point['depth'] = get_depth(float(point[\"Longitude\"]), float(point[\"Latitude\"]))\n",
    "    point['dist'] = get_dist((float(point[\"Latitude\"]), float(point[\"Longitude\"])))\n",
    "    point['round_lat'] = round(2*float(point[\"Latitude\"]))\n",
    "    point['round_long'] = round(2*float(point[\"Longitude\"]))"
   ]
  },
  {
   "cell_type": "code",
   "execution_count": null,
   "id": "bdc3f4d3-aca3-4803-8d9a-e313c7efbfe5",
   "metadata": {},
   "outputs": [],
   "source": [
    "eu_data[0]['depth']"
   ]
  },
  {
   "cell_type": "code",
   "execution_count": 30,
   "id": "41c11ff9-e3eb-40b7-af5b-4ace7722db72",
   "metadata": {},
   "outputs": [
    {
     "data": {
      "text/plain": [
       "0.04103599148545686"
      ]
     },
     "execution_count": 30,
     "metadata": {},
     "output_type": "execute_result"
    }
   ],
   "source": [
    "eu_data[65]['dist']"
   ]
  },
  {
   "cell_type": "markdown",
   "id": "24bcca37-f27e-458a-b4e7-7f247554257e",
   "metadata": {},
   "source": [
    "### Reading the marine .nc data"
   ]
  },
  {
   "cell_type": "code",
   "execution_count": null,
   "id": "1c904d29-183e-4d8e-8661-d8424592ff09",
   "metadata": {},
   "outputs": [],
   "source": [
    "file = nc.Dataset('Data/adaptor.mars.internal-1681974049.4026587-29692-1-dd9a618f-4443-456b-9015-a189e9b4145c.nc', 'r')\n",
    "file.variables"
   ]
  },
  {
   "cell_type": "markdown",
   "id": "5694f8ad-75e4-4e6a-96a6-8e588058dbdc",
   "metadata": {},
   "source": [
    "### Get all the featurs values"
   ]
  },
  {
   "cell_type": "code",
   "execution_count": null,
   "id": "42588dc6-13e2-4b52-849d-9322b4580ba6",
   "metadata": {},
   "outputs": [],
   "source": [
    "longitude = file.variables['longitude']\n",
    "latitude = file.variables['latitude']\n",
    "time = file.variables['time']\n",
    "mwd = file.variables['mwd']\n",
    "mwp = file.variables['mwp']\n",
    "wmb = file.variables['wmb']\n",
    "phioc = file.variables['phioc']\n",
    "phiaw = file.variables['phiaw']\n",
    "swh = file.variables['swh']"
   ]
  },
  {
   "cell_type": "code",
   "execution_count": null,
   "id": "5e1b5997-c0eb-43ed-9008-9b8a4db46d93",
   "metadata": {},
   "outputs": [],
   "source": [
    "longitude = longitude[:]\n",
    "latitude = latitude[:]\n",
    "time = time[:]\n",
    "mwd = mwd[:]\n",
    "mwp = mwp[:]\n",
    "wmb = wmb[:]\n",
    "phioc = phioc[:]\n",
    "phiaw = phiaw[:]\n",
    "swh = swh[:]"
   ]
  },
  {
   "cell_type": "markdown",
   "id": "d9e451fe-7bf0-4d72-9487-b7bcb60327bd",
   "metadata": {},
   "source": [
    "### Define function for exponentially weighted mean average"
   ]
  },
  {
   "cell_type": "code",
   "execution_count": null,
   "id": "c31d37b2-11d1-41b1-ba12-c85b72f422f3",
   "metadata": {},
   "outputs": [],
   "source": [
    "def ewma(x):\n",
    "    return pd.Series(x).ewm(alpha=0.1).mean().values[-1]"
   ]
  },
  {
   "cell_type": "markdown",
   "id": "79753f12-cbc6-4680-b4ec-e5c8711e5706",
   "metadata": {},
   "source": [
    "### Get ewma for all the features"
   ]
  },
  {
   "cell_type": "code",
   "execution_count": null,
   "id": "f99e879c-561a-4afb-a789-11fb6f1c51ee",
   "metadata": {},
   "outputs": [],
   "source": [
    "mwd = np.apply_along_axis(ewma, axis=0, arr=mwd)\n",
    "mwp = np.apply_along_axis(ewma, axis=0, arr=mwp)\n",
    "wmb = np.apply_along_axis(ewma, axis=0, arr=wmb)\n",
    "phioc = np.apply_along_axis(ewma, axis=0, arr=phioc)\n",
    "phiaw = np.apply_along_axis(ewma, axis=0, arr=phiaw)\n",
    "swh = np.apply_along_axis(ewma, axis=0, arr=swh)"
   ]
  },
  {
   "cell_type": "code",
   "execution_count": null,
   "id": "d9c301e8-264b-4521-834c-5ddb493d1700",
   "metadata": {},
   "outputs": [],
   "source": [
    "fig, ax = plt.subplots()\n",
    "heatmap = ax.pcolormesh(longitude, latitude, mwd, cmap='coolwarm')\n",
    "\n",
    "# Add a color bar\n",
    "cbar = fig.colorbar(heatmap)\n",
    "\n",
    "# Set the plot title and axis labels\n",
    "ax.set_title('Heatmap plot')\n",
    "ax.set_xlabel('Longitude')\n",
    "ax.set_ylabel('Latitude')\n",
    "# Show the plot\n",
    "plt.show()"
   ]
  },
  {
   "cell_type": "code",
   "execution_count": null,
   "id": "38907882-1ae4-4142-9dbe-584022d4cc1e",
   "metadata": {},
   "outputs": [],
   "source": [
    "len(latitude)"
   ]
  },
  {
   "cell_type": "code",
   "execution_count": null,
   "id": "55a9a741-2b27-4ab7-81ab-4b28fc67b82e",
   "metadata": {},
   "outputs": [],
   "source": [
    "len(longitude)"
   ]
  },
  {
   "cell_type": "code",
   "execution_count": null,
   "id": "71d539fc-0e30-44bf-a079-304b5d64ba91",
   "metadata": {},
   "outputs": [],
   "source": [
    "# for tm in range(len(time)):\n",
    "#     for lat in range(len(latitude)):\n",
    "#         for long in range(len(longitude)):\n",
    "#             wmb.data[tm][lat][long]"
   ]
  },
  {
   "cell_type": "code",
   "execution_count": null,
   "id": "6a70fe09-ac7b-497a-b60b-85259012f737",
   "metadata": {},
   "outputs": [],
   "source": [
    "# for lat in range(len(latitude)):\n",
    "#     for long in range(len(longitude)):\n",
    "#         wmb.data[-1][lat][long]"
   ]
  },
  {
   "cell_type": "code",
   "execution_count": null,
   "id": "1d6eb011-649e-4d50-87a2-855d451c0b23",
   "metadata": {},
   "outputs": [],
   "source": [
    "X, Y = np.meshgrid(latitude.data, longitude.data)\n",
    "\n",
    "# # plot the pcolormesh\n",
    "# plt.pcolormesh(X, Y, wmb.data[-1], cmap='jet')\n",
    "# plt.colorbar()"
   ]
  },
  {
   "cell_type": "markdown",
   "id": "909216ee",
   "metadata": {},
   "source": [
    "## ML model"
   ]
  },
  {
   "cell_type": "code",
   "execution_count": null,
   "id": "540b87db",
   "metadata": {},
   "outputs": [],
   "source": [
    "# inputs\n",
    "x_train = []\n",
    "y_train = []"
   ]
  },
  {
   "cell_type": "code",
   "execution_count": null,
   "id": "7e8bcd7c",
   "metadata": {},
   "outputs": [],
   "source": []
  },
  {
   "cell_type": "code",
   "execution_count": null,
   "id": "2be7cc61",
   "metadata": {},
   "outputs": [],
   "source": []
  },
  {
   "cell_type": "code",
   "execution_count": null,
   "id": "2b24693a",
   "metadata": {},
   "outputs": [],
   "source": []
  },
  {
   "cell_type": "code",
   "execution_count": null,
   "id": "99a7c552",
   "metadata": {},
   "outputs": [],
   "source": []
  },
  {
   "cell_type": "code",
   "execution_count": null,
   "id": "bd6b1d9e",
   "metadata": {},
   "outputs": [],
   "source": []
  },
  {
   "cell_type": "code",
   "execution_count": null,
   "id": "1b7aa06b",
   "metadata": {},
   "outputs": [],
   "source": []
  },
  {
   "cell_type": "markdown",
   "id": "32bad0b4-04d4-42d9-84e5-b87145cd0055",
   "metadata": {},
   "source": [
    "### Plot for Normalised energy flux into the ocean (phioc)"
   ]
  },
  {
   "cell_type": "code",
   "execution_count": null,
   "id": "0792284e-7402-486c-b8fb-ba22a4dc714e",
   "metadata": {},
   "outputs": [],
   "source": [
    "masked_data = np.ma.masked_less(phioc.data, -13000)\n",
    "\n",
    "fig, ax = plt.subplots()\n",
    "heatmap = ax.pcolormesh(longitude, latitude, masked_data, cmap='coolwarm')\n",
    "\n",
    "# Add a color bar\n",
    "cbar = fig.colorbar(heatmap)\n",
    "\n",
    "# Set the plot title and axis labels\n",
    "ax.set_title('Normalised energy flux into the ocean (phioc)')\n",
    "ax.set_xlabel('Longitude')\n",
    "ax.set_ylabel('Latitude')\n",
    "\n",
    "# Show the plot\n",
    "plt.show()"
   ]
  },
  {
   "cell_type": "markdown",
   "id": "37d2a2d9-0af9-43a7-a928-fa00fa22940a",
   "metadata": {},
   "source": [
    "### Plot for Mean wave direction (mwd)"
   ]
  },
  {
   "cell_type": "code",
   "execution_count": null,
   "id": "fc8f3420-e048-4f2d-b910-cee8f4807218",
   "metadata": {},
   "outputs": [],
   "source": [
    "masked_data = np.ma.masked_less(mwd.data, -13000)\n",
    "\n",
    "fig, ax = plt.subplots()\n",
    "heatmap = ax.pcolormesh(longitude, latitude, masked_data, cmap='coolwarm')\n",
    "\n",
    "# Add a color bar\n",
    "cbar = fig.colorbar(heatmap)\n",
    "\n",
    "# Set the plot title and axis labels\n",
    "ax.set_title('Mean wave direction (mwd)')\n",
    "ax.set_xlabel('Longitude')\n",
    "ax.set_ylabel('Latitude')\n",
    "# Show the plot\n",
    "plt.show()"
   ]
  },
  {
   "cell_type": "markdown",
   "id": "6732f992-20ee-40d1-b3a3-1c88d3fa77d5",
   "metadata": {},
   "source": [
    "### Plot for Mean wave period (mwp)"
   ]
  },
  {
   "cell_type": "code",
   "execution_count": null,
   "id": "71382f9b-8554-4a29-9165-fd918cf3ed0c",
   "metadata": {},
   "outputs": [],
   "source": [
    "masked_data = np.ma.masked_less(mwp.data, -13000)\n",
    "\n",
    "fig, ax = plt.subplots()\n",
    "heatmap = ax.pcolormesh(longitude, latitude, masked_data, cmap='coolwarm')\n",
    "\n",
    "# Add a color bar\n",
    "cbar = fig.colorbar(heatmap)\n",
    "\n",
    "# Set the plot title and axis labels\n",
    "ax.set_title('Mean wave period (mwp)')\n",
    "ax.set_xlabel('Longitude')\n",
    "ax.set_ylabel('Latitude')\n",
    "\n",
    "# Show the plot\n",
    "plt.show()"
   ]
  },
  {
   "cell_type": "markdown",
   "id": "d6d89621-28cf-40c1-aa38-815af442f86c",
   "metadata": {},
   "source": [
    "### Plot for Normalised energy flux into the waves (phiaw)"
   ]
  },
  {
   "cell_type": "code",
   "execution_count": null,
   "id": "82ee715c-7642-4304-93e4-005aa192e0e8",
   "metadata": {},
   "outputs": [],
   "source": [
    "masked_data = np.ma.masked_less(phiaw.data, -13000)\n",
    "\n",
    "fig, ax = plt.subplots()\n",
    "heatmap = ax.pcolormesh(longitude, latitude, masked_data, cmap='coolwarm')\n",
    "\n",
    "# Add a color bar\n",
    "cbar = fig.colorbar(heatmap)\n",
    "\n",
    "# Set the plot title and axis labels\n",
    "ax.set_title('Normalised energy flux into the waves (phiaw)')\n",
    "ax.set_xlabel('Longitude')\n",
    "ax.set_ylabel('Latitude')\n",
    "\n",
    "# Show the plot\n",
    "plt.show()"
   ]
  },
  {
   "cell_type": "markdown",
   "id": "b8668fad-b5dd-4957-950d-4a5d65632f71",
   "metadata": {},
   "source": [
    "### Plot for Significant height of comined wind and swell (swh)"
   ]
  },
  {
   "cell_type": "code",
   "execution_count": null,
   "id": "ddb5219d-fc32-4855-b427-c8190831e74f",
   "metadata": {},
   "outputs": [],
   "source": [
    "masked_data = np.ma.masked_less(swh.data, -13000)\n",
    "\n",
    "fig, ax = plt.subplots()\n",
    "heatmap = ax.pcolormesh(longitude, latitude, masked_data, cmap='coolwarm')\n",
    "\n",
    "# Add a color bar\n",
    "cbar = fig.colorbar(heatmap)\n",
    "\n",
    "# Set the plot title and axis labels\n",
    "ax.set_title('Significant height of comined wind and swell (swh)')\n",
    "ax.set_xlabel('Longitude')\n",
    "ax.set_ylabel('Latitude')\n",
    "\n",
    "# Show the plot\n",
    "plt.show()"
   ]
  },
  {
   "cell_type": "markdown",
   "id": "d92598f8-1822-4ab2-8d3e-2421e26f7ebf",
   "metadata": {},
   "source": [
    "### Plot for Model bathymetry (wmb)"
   ]
  },
  {
   "cell_type": "code",
   "execution_count": null,
   "id": "2c0602dd-fa49-4520-8faf-cbdf9c49330f",
   "metadata": {},
   "outputs": [],
   "source": [
    "masked_data = np.ma.masked_less(wmb.data, -15000)\n",
    "\n",
    "fig, ax = plt.subplots()\n",
    "heatmap = ax.pcolormesh(longitude, latitude, masked_data, cmap='coolwarm')\n",
    "\n",
    "# Add a color bar\n",
    "cbar = fig.colorbar(heatmap)\n",
    "\n",
    "# Set the plot title and axis labels\n",
    "ax.set_title('Model bathymetry (wmb)')\n",
    "ax.set_xlabel('Longitude')\n",
    "ax.set_ylabel('Latitude')\n",
    "\n",
    "# Show the plot\n",
    "plt.show()"
   ]
  },
  {
   "cell_type": "code",
   "execution_count": null,
   "id": "3dc58aa1-eda8-4051-bcad-5b90ed2d39cd",
   "metadata": {},
   "outputs": [],
   "source": [
    "# Close the file\n",
    "file.close()"
   ]
  },
  {
   "cell_type": "code",
   "execution_count": null,
   "id": "dba8a4a2-cd19-4952-a387-53cb6f585459",
   "metadata": {},
   "outputs": [],
   "source": [
    "time x latitude x longitude"
   ]
  }
 ],
 "metadata": {
  "kernelspec": {
   "display_name": "Python 3 (ipykernel)",
   "language": "python",
   "name": "python3"
  },
  "language_info": {
   "codemirror_mode": {
    "name": "ipython",
    "version": 3
   },
   "file_extension": ".py",
   "mimetype": "text/x-python",
   "name": "python",
   "nbconvert_exporter": "python",
   "pygments_lexer": "ipython3",
   "version": "3.11.3"
  }
 },
 "nbformat": 4,
 "nbformat_minor": 5
}
