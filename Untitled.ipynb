{
 "cells": [
  {
   "cell_type": "code",
   "execution_count": 5,
   "id": "74566e4b-28de-4fc6-b4e8-e767ea4255b3",
   "metadata": {},
   "outputs": [
    {
     "ename": "ModuleNotFoundError",
     "evalue": "No module named 'osgeo'",
     "output_type": "error",
     "traceback": [
      "\u001b[1;31m---------------------------------------------------------------------------\u001b[0m",
      "\u001b[1;31mModuleNotFoundError\u001b[0m                       Traceback (most recent call last)",
      "\u001b[1;32m~\\AppData\\Local\\Temp\\ipykernel_15108\\2884998935.py\u001b[0m in \u001b[0;36m<module>\u001b[1;34m\u001b[0m\n\u001b[1;32m----> 1\u001b[1;33m \u001b[1;32mfrom\u001b[0m \u001b[0mosgeo\u001b[0m \u001b[1;32mimport\u001b[0m \u001b[0mgdal\u001b[0m\u001b[1;33m\u001b[0m\u001b[1;33m\u001b[0m\u001b[0m\n\u001b[0m\u001b[0;32m      2\u001b[0m \u001b[1;32mfrom\u001b[0m \u001b[0mgdal\u001b[0m \u001b[1;32mimport\u001b[0m \u001b[0mogr\u001b[0m\u001b[1;33m,\u001b[0m \u001b[0mosr\u001b[0m\u001b[1;33m\u001b[0m\u001b[1;33m\u001b[0m\u001b[0m\n\u001b[0;32m      3\u001b[0m \u001b[1;33m\u001b[0m\u001b[0m\n\u001b[0;32m      4\u001b[0m \u001b[1;31m# open the shape file\u001b[0m\u001b[1;33m\u001b[0m\u001b[1;33m\u001b[0m\u001b[0m\n\u001b[0;32m      5\u001b[0m \u001b[0mdriver\u001b[0m \u001b[1;33m=\u001b[0m \u001b[0mogr\u001b[0m\u001b[1;33m.\u001b[0m\u001b[0mGetDriverByName\u001b[0m\u001b[1;33m(\u001b[0m\u001b[1;34m\"ESRI Shapefile\"\u001b[0m\u001b[1;33m)\u001b[0m\u001b[1;33m\u001b[0m\u001b[1;33m\u001b[0m\u001b[0m\n",
      "\u001b[1;31mModuleNotFoundError\u001b[0m: No module named 'osgeo'"
     ]
    }
   ],
   "source": [
    "from osgeo import gdal\n",
    "from gdal import ogr, osr\n",
    "\n",
    "# open the shape file\n",
    "driver = ogr.GetDriverByName(\"ESRI Shapefile\")\n",
    "ds = driver.Open(r\"d:\\path\\to\\shapefile.shp\",0)\n",
    "Layer = ds.GetLayer()\n",
    "ProjSR = Layer.GetSpatialRef()\n",
    "\n",
    "# create a new spatial reference and assign it to WGS84\n",
    "DD_SR = osr.SpatialReference()\n",
    "DD_SR.ImportFromEPSG(4326) # WGS84 - geographic\n",
    "\n",
    "# get the first feature and its geometry\n",
    "ft = Layer.GetFeature(1) # you may need to loop through features\n",
    "Geom = ft.GetGeometryRef()\n",
    "# distance is measured to the boundary or the\n",
    "# return distance would always be 0 for inside\n",
    "Bdy = Geom.Boundary()\n",
    "\n",
    "# create the point\n",
    "pt = ogr.Geometry(ogr.wkbPoint)\n",
    "pt.AddPoint_2D(1,1) # insert your own coords here\n",
    "\n",
    "# transform to the spatial reference of the layer\n",
    "pt.AssignSpatialReference(DD_SR)\n",
    "pt.TransformTo(ProjSR)\n",
    "\n",
    "print(pt.Distance(Bdy)) # distance operator"
   ]
  },
  {
   "cell_type": "code",
   "execution_count": null,
   "id": "97c8a48a-cd38-4cb4-ac40-1b281a606f64",
   "metadata": {},
   "outputs": [],
   "source": []
  }
 ],
 "metadata": {
  "kernelspec": {
   "display_name": "Python 3 (ipykernel)",
   "language": "python",
   "name": "python3"
  },
  "language_info": {
   "codemirror_mode": {
    "name": "ipython",
    "version": 3
   },
   "file_extension": ".py",
   "mimetype": "text/x-python",
   "name": "python",
   "nbconvert_exporter": "python",
   "pygments_lexer": "ipython3",
   "version": "3.9.13"
  }
 },
 "nbformat": 4,
 "nbformat_minor": 5
}
