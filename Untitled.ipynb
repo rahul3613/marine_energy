{
 "cells": [
  {
   "cell_type": "code",
   "execution_count": 24,
   "id": "b4115d15",
   "metadata": {},
   "outputs": [
    {
     "name": "stdout",
     "output_type": "stream",
     "text": [
      "The nearest shore is at (43.0120186, -70.7719426) and the distance is 5.927766543177459 km\n"
     ]
    }
   ],
   "source": [
    "import requests\n",
    "from haversine import haversine\n",
    "\n",
    "# Define the point in the sea (latitude, longitude)\n",
    "sea_point = (42.979535, -70.714150)\n",
    "\n",
    "# Define the OpenStreetMap API endpoint and parameters\n",
    "url = 'https://nominatim.openstreetmap.org/reverse'\n",
    "params = {\n",
    "    'format': 'jsonv2',\n",
    "    'lat': sea_point[0],\n",
    "    'lon': sea_point[1]\n",
    "}\n",
    "\n",
    "response = requests.get(url, params=params).json()\n",
    "\n",
    "shore_point = (float(response['lat']), float(response['lon']))\n",
    "\n",
    "distance = haversine(sea_point, shore_point)\n",
    "\n",
    "print(f'The nearest shore is at {shore_point} and the distance is {distance} km')\n"
   ]
  },
  {
   "cell_type": "code",
   "execution_count": 25,
   "id": "13213b4f",
   "metadata": {},
   "outputs": [
    {
     "data": {
      "text/plain": [
       "(43.0120186, -70.7719426)"
      ]
     },
     "execution_count": 25,
     "metadata": {},
     "output_type": "execute_result"
    }
   ],
   "source": [
    "shore_point"
   ]
  },
  {
   "cell_type": "code",
   "execution_count": 26,
   "id": "a1656547",
   "metadata": {},
   "outputs": [
    {
     "data": {
      "text/plain": [
       "{'place_id': 297656364,\n",
       " 'licence': 'Data © OpenStreetMap contributors, ODbL 1.0. https://osm.org/copyright',\n",
       " 'osm_type': 'relation',\n",
       " 'osm_id': 71241,\n",
       " 'lat': '43.0120186',\n",
       " 'lon': '-70.7719426',\n",
       " 'place_rank': 16,\n",
       " 'category': 'boundary',\n",
       " 'type': 'administrative',\n",
       " 'importance': 0.34248064634289366,\n",
       " 'addresstype': 'city',\n",
       " 'name': 'Rye',\n",
       " 'display_name': 'Rye, Rockingham County, New Hampshire, United States',\n",
       " 'address': {'village': 'Rye',\n",
       "  'county': 'Rockingham County',\n",
       "  'state': 'New Hampshire',\n",
       "  'ISO3166-2-lvl4': 'US-NH',\n",
       "  'country': 'United States',\n",
       "  'country_code': 'us'},\n",
       " 'boundingbox': ['42.9527646', '43.0595985', '-70.815147', '-70.6056135']}"
      ]
     },
     "execution_count": 26,
     "metadata": {},
     "output_type": "execute_result"
    }
   ],
   "source": [
    "response"
   ]
  },
  {
   "cell_type": "code",
   "execution_count": null,
   "id": "cb3318c7",
   "metadata": {},
   "outputs": [],
   "source": []
  }
 ],
 "metadata": {
  "kernelspec": {
   "display_name": "Python 3 (ipykernel)",
   "language": "python",
   "name": "python3"
  },
  "language_info": {
   "codemirror_mode": {
    "name": "ipython",
    "version": 3
   },
   "file_extension": ".py",
   "mimetype": "text/x-python",
   "name": "python",
   "nbconvert_exporter": "python",
   "pygments_lexer": "ipython3",
   "version": "3.11.3"
  }
 },
 "nbformat": 4,
 "nbformat_minor": 5
}
